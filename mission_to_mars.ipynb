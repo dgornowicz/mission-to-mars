{
 "cells": [
  {
   "cell_type": "code",
<<<<<<< HEAD
   "execution_count": 1,
   "id": "9648334b",
=======
   "execution_count": 2,
   "id": "a0f85f6f",
>>>>>>> 00f5e942e0fb634b64f50916f871c0a40a5219af
   "metadata": {},
   "outputs": [],
   "source": [
    "# dependencies\n",
    "from splinter import Browser\n",
    "from bs4 import BeautifulSoup as soup\n",
<<<<<<< HEAD
    "from webdriver_manager.chrome import ChromeDriverManager\n",
    "import pandas as pd"
=======
    "from webdriver_manager.chrome import ChromeDriverManager"
>>>>>>> 00f5e942e0fb634b64f50916f871c0a40a5219af
   ]
  },
  {
   "cell_type": "code",
<<<<<<< HEAD
   "execution_count": 2,
   "id": "c83c7eab",
=======
   "execution_count": 3,
   "id": "8cb02e2f",
>>>>>>> 00f5e942e0fb634b64f50916f871c0a40a5219af
   "metadata": {},
   "outputs": [],
   "source": [
    "# set up splinter instance\n",
    "executable_path = {'executable_path': ChromeDriverManager().install()}\n",
    "browser = Browser('chrome', **executable_path, headless=False)"
   ]
  },
  {
   "cell_type": "code",
<<<<<<< HEAD
   "execution_count": 3,
   "id": "33c120e8",
=======
   "execution_count": 4,
   "id": "fdee93cc",
>>>>>>> 00f5e942e0fb634b64f50916f871c0a40a5219af
   "metadata": {},
   "outputs": [
    {
     "data": {
      "text/plain": [
       "True"
      ]
     },
<<<<<<< HEAD
     "execution_count": 3,
=======
     "execution_count": 4,
>>>>>>> 00f5e942e0fb634b64f50916f871c0a40a5219af
     "metadata": {},
     "output_type": "execute_result"
    }
   ],
   "source": [
    "# visit the mars nasa news site\n",
    "url = 'https://redplanetscience.com'\n",
    "browser.visit(url)\n",
    "\n",
    "# optional delay for loading the page\n",
    "browser.is_element_present_by_css('div.list_text', wait_time=1)"
   ]
  },
  {
   "cell_type": "code",
<<<<<<< HEAD
   "execution_count": 4,
   "id": "7122fd07",
=======
   "execution_count": 5,
   "id": "9e090d58",
>>>>>>> 00f5e942e0fb634b64f50916f871c0a40a5219af
   "metadata": {},
   "outputs": [],
   "source": [
    "# html parser\n",
    "html = browser.html\n",
    "news_soup = soup(html, 'html.parser')\n",
    "slide_elem = news_soup.select_one('div.list_text')"
   ]
  },
  {
   "cell_type": "code",
<<<<<<< HEAD
   "execution_count": 5,
   "id": "96d77208",
=======
   "execution_count": 8,
   "id": "9cf991d5",
>>>>>>> 00f5e942e0fb634b64f50916f871c0a40a5219af
   "metadata": {},
   "outputs": [
    {
     "data": {
      "text/plain": [
<<<<<<< HEAD
       "\"NASA Engineers Checking InSight's Weather Sensors\""
      ]
     },
     "execution_count": 5,
=======
       "'NASA Invites Public to Share Excitement of Mars 2020 Perseverance Rover Launch'"
      ]
     },
     "execution_count": 8,
>>>>>>> 00f5e942e0fb634b64f50916f871c0a40a5219af
     "metadata": {},
     "output_type": "execute_result"
    }
   ],
   "source": [
    "# use the parent element to find the first `a` tag and save it as `news_title`\n",
    "news_title = slide_elem.find('div', class_='content_title').get_text()\n",
    "news_title"
   ]
  },
  {
   "cell_type": "code",
<<<<<<< HEAD
   "execution_count": 6,
   "id": "42fa0d98",
=======
   "execution_count": 9,
   "id": "0552364d",
>>>>>>> 00f5e942e0fb634b64f50916f871c0a40a5219af
   "metadata": {},
   "outputs": [
    {
     "data": {
      "text/plain": [
<<<<<<< HEAD
       "'An electronics issue is suspected to be preventing the sensors from sharing their data about Mars weather with the spacecraft.'"
      ]
     },
     "execution_count": 6,
=======
       "'There are lots of ways to participate in the historic event, which is targeted for July 30.'"
      ]
     },
     "execution_count": 9,
>>>>>>> 00f5e942e0fb634b64f50916f871c0a40a5219af
     "metadata": {},
     "output_type": "execute_result"
    }
   ],
   "source": [
    "# use the parent element to find the paragraph text\n",
    "news_p = slide_elem.find('div', class_='article_teaser_body').get_text()\n",
    "news_p"
   ]
  },
  {
<<<<<<< HEAD
   "cell_type": "markdown",
   "id": "9ce50438",
   "metadata": {},
   "source": [
    "### Featured Images"
   ]
  },
  {
   "cell_type": "code",
   "execution_count": 7,
   "id": "ed69d619",
   "metadata": {},
   "outputs": [],
   "source": [
    "# visit URL\n",
    "url = 'https://spaceimages-mars.com'\n",
    "browser.visit(url)"
   ]
  },
  {
   "cell_type": "code",
   "execution_count": 8,
   "id": "01c14485",
   "metadata": {},
   "outputs": [],
   "source": [
    "# find and click the full image button\n",
    "full_image_elem = browser.find_by_tag('button')[1]\n",
    "full_image_elem.click()"
   ]
  },
  {
   "cell_type": "code",
   "execution_count": 9,
   "id": "457371da",
   "metadata": {},
   "outputs": [],
   "source": [
    "# parse the resulting html with soup\n",
    "html = browser.html\n",
    "img_soup = soup(html, 'html.parser')"
   ]
  },
  {
   "cell_type": "code",
   "execution_count": 10,
   "id": "7cc645eb",
   "metadata": {},
   "outputs": [
    {
     "data": {
      "text/plain": [
       "'image/featured/mars1.jpg'"
      ]
     },
     "execution_count": 10,
     "metadata": {},
     "output_type": "execute_result"
    }
   ],
   "source": [
    "# Find the relative image url\n",
    "img_url_rel = img_soup.find('img', class_='fancybox-image').get('src')\n",
    "img_url_rel"
   ]
  },
  {
   "cell_type": "code",
   "execution_count": 11,
   "id": "39655ac1",
   "metadata": {},
   "outputs": [
    {
     "data": {
      "text/plain": [
       "'https://spaceimages-mars.com/image/featured/mars1.jpg'"
      ]
     },
     "execution_count": 11,
     "metadata": {},
     "output_type": "execute_result"
    }
   ],
   "source": [
    "# use the base URL to create an absolute URL\n",
    "img_url = f'https://spaceimages-mars.com/{img_url_rel}'\n",
    "img_url"
   ]
  },
  {
   "cell_type": "markdown",
   "id": "e8a839b5",
   "metadata": {},
   "source": [
    "### Mars Facts"
   ]
  },
  {
   "cell_type": "code",
   "execution_count": 12,
   "id": "395d0b25",
   "metadata": {},
   "outputs": [
    {
     "data": {
      "text/html": [
       "<div>\n",
       "<style scoped>\n",
       "    .dataframe tbody tr th:only-of-type {\n",
       "        vertical-align: middle;\n",
       "    }\n",
       "\n",
       "    .dataframe tbody tr th {\n",
       "        vertical-align: top;\n",
       "    }\n",
       "\n",
       "    .dataframe thead th {\n",
       "        text-align: right;\n",
       "    }\n",
       "</style>\n",
       "<table border=\"1\" class=\"dataframe\">\n",
       "  <thead>\n",
       "    <tr style=\"text-align: right;\">\n",
       "      <th></th>\n",
       "      <th>Mars</th>\n",
       "      <th>Earth</th>\n",
       "    </tr>\n",
       "    <tr>\n",
       "      <th>description</th>\n",
       "      <th></th>\n",
       "      <th></th>\n",
       "    </tr>\n",
       "  </thead>\n",
       "  <tbody>\n",
       "    <tr>\n",
       "      <th>Mars - Earth Comparison</th>\n",
       "      <td>Mars</td>\n",
       "      <td>Earth</td>\n",
       "    </tr>\n",
       "    <tr>\n",
       "      <th>Diameter:</th>\n",
       "      <td>6,779 km</td>\n",
       "      <td>12,742 km</td>\n",
       "    </tr>\n",
       "    <tr>\n",
       "      <th>Mass:</th>\n",
       "      <td>6.39 × 10^23 kg</td>\n",
       "      <td>5.97 × 10^24 kg</td>\n",
       "    </tr>\n",
       "    <tr>\n",
       "      <th>Moons:</th>\n",
       "      <td>2</td>\n",
       "      <td>1</td>\n",
       "    </tr>\n",
       "    <tr>\n",
       "      <th>Distance from Sun:</th>\n",
       "      <td>227,943,824 km</td>\n",
       "      <td>149,598,262 km</td>\n",
       "    </tr>\n",
       "    <tr>\n",
       "      <th>Length of Year:</th>\n",
       "      <td>687 Earth days</td>\n",
       "      <td>365.24 days</td>\n",
       "    </tr>\n",
       "    <tr>\n",
       "      <th>Temperature:</th>\n",
       "      <td>-87 to -5 °C</td>\n",
       "      <td>-88 to 58°C</td>\n",
       "    </tr>\n",
       "  </tbody>\n",
       "</table>\n",
       "</div>"
      ],
      "text/plain": [
       "                                    Mars            Earth\n",
       "description                                              \n",
       "Mars - Earth Comparison             Mars            Earth\n",
       "Diameter:                       6,779 km        12,742 km\n",
       "Mass:                    6.39 × 10^23 kg  5.97 × 10^24 kg\n",
       "Moons:                                 2                1\n",
       "Distance from Sun:        227,943,824 km   149,598,262 km\n",
       "Length of Year:           687 Earth days      365.24 days\n",
       "Temperature:                -87 to -5 °C      -88 to 58°C"
      ]
     },
     "execution_count": 12,
     "metadata": {},
     "output_type": "execute_result"
    }
   ],
   "source": [
    "df = pd.read_html('https://galaxyfacts-mars.com')[0]\n",
    "df.columns=['description', 'Mars', 'Earth']\n",
    "df.set_index('description', inplace=True)\n",
    "df"
   ]
  },
  {
   "cell_type": "code",
   "execution_count": 13,
   "id": "ab3aac88",
   "metadata": {},
   "outputs": [],
   "source": [
    "browser.quit()"
   ]
=======
   "cell_type": "code",
   "execution_count": null,
   "id": "ef2f515e",
   "metadata": {},
   "outputs": [],
   "source": []
>>>>>>> 00f5e942e0fb634b64f50916f871c0a40a5219af
  }
 ],
 "metadata": {
  "kernelspec": {
   "display_name": "PythonData",
   "language": "python",
   "name": "pythondata"
  },
  "language_info": {
   "codemirror_mode": {
    "name": "ipython",
    "version": 3
   },
   "file_extension": ".py",
   "mimetype": "text/x-python",
   "name": "python",
   "nbconvert_exporter": "python",
   "pygments_lexer": "ipython3",
   "version": "3.9.12"
  }
 },
 "nbformat": 4,
 "nbformat_minor": 5
}
